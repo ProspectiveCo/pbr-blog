{
 "cells": [
  {
   "cell_type": "code",
   "execution_count": 2,
   "metadata": {},
   "outputs": [],
   "source": [
    "import os\n",
    "import json"
   ]
  },
  {
   "cell_type": "code",
   "execution_count": null,
   "metadata": {},
   "outputs": [],
   "source": []
  },
  {
   "cell_type": "markdown",
   "metadata": {},
   "source": []
  },
  {
   "cell_type": "code",
   "execution_count": 3,
   "metadata": {},
   "outputs": [],
   "source": [
    "\n",
    "subject = \"bulls\"\n",
    "path = \"./\" + subject\n",
    "dir_list = os.listdir(path)\n",
    "\n",
    "# for file in dir_list:\n",
    "#     with open(path + \"/\" + file, 'r') as f:\n",
    "#         data = json.load(f)\n",
    "#         data = data['data']\n",
    "#         with open(path + \"/\" + file, 'w') as fw:\n",
    "#             json.dump(data, fw)\n",
    "#             fw.close()\n",
    "#         f.close()     \n"
   ]
  },
  {
   "cell_type": "code",
   "execution_count": 3,
   "metadata": {},
   "outputs": [],
   "source": [
    "\n",
    "\n",
    "# flatten the data into a dataframe\n",
    "import pandas as pd\n",
    "\n",
    "for file in dir_list:\n",
    "    if file.endswith('.json'):\n",
    "        with open(path + \"/\" + file, 'r') as f:\n",
    "            data = json.load(f)\n",
    "\n",
    "            # pull the year from the file name, which looks like this: bulls-2021.json\n",
    "            year = file.split('-')[1].split('.')[0]\n",
    "\n",
    "            # parse the year into a number\n",
    "            year = int(year)\n",
    "\n",
    "            # Add the year to each record in data\n",
    "            for record in data:\n",
    "                record['year'] = year\n",
    "\n",
    "\n",
    "            df = pd.json_normalize(data)\n",
    "\n",
    "        # # remove extension from file name\n",
    "            file = file.split('.')[0]\n",
    "\n",
    "            df.to_json('./' + subject + '/normalized/' + file + '-flat.json', orient='records')\n",
    "\n",
    "            f.close()\n",
    "        \n",
    "\n",
    "# load the data at ./riders/riders-2021.json\n",
    "# with open('./riders/riders-2021.json') as f:\n",
    "#   data = json.load(f)\n",
    "#   df = pd.json_normalize(data)\n",
    "\n",
    "#   # write the dataframe to a json file\n",
    "#   df.to_json('./riders/riders-2021-flat.json', orient='records')\n",
    "  "
   ]
  },
  {
   "cell_type": "code",
   "execution_count": 4,
   "metadata": {},
   "outputs": [],
   "source": [
    "import pandas as pd\n",
    "import os\n",
    "import pyarrow\n",
    "\n",
    "# create a single dataframe from all the normalized json files\n",
    "path = './' + subject + '/normalized/'\n",
    "files = os.listdir(path)\n",
    "files = [path + f for f in files]\n",
    "df = pd.concat([pd.read_json(f) for f in files], ignore_index = True)\n",
    "\n",
    "# export the dataframe to an arrow file\n",
    "# df.to_feather('./' + subject + '/' + subject + '-normalized.arrow')\n",
    "\n",
    "# export the dataframe into a parquet file\n",
    "# df.to_parquet('./' + subject + '/' + subject + '-normalized.parquet')\n",
    "\n",
    "# export the dataframe into a csv file\n",
    "# df.to_csv('./' + subject + '/' + subject + '-normalized.csv')\n",
    "\n",
    "# create a PCRE regular expression to extract the feet height from a string in the form `5' 10\"`\n",
    "# feet_height_regex = r'(\\d)\\' (\\d\\d?)\"'\n",
    "\n",
    "# create a PCRE regular expression to extract the inches value from a string in the form `5' 10\"`\n",
    "# inches_height_regex = r'(\\d)\\' (\\d\\d?)\"'\n"
   ]
  },
  {
   "cell_type": "code",
   "execution_count": 5,
   "metadata": {},
   "outputs": [
    {
     "data": {
      "application/vnd.jupyter.widget-view+json": {
       "model_id": "d012c965bec040c686a34265bf1d16b3",
       "version_major": 2,
       "version_minor": 0
      },
      "text/plain": [
       "PerspectiveWidget(columns=['x'], theme=None)"
      ]
     },
     "execution_count": 5,
     "metadata": {},
     "output_type": "execute_result"
    }
   ],
   "source": [
    "import perspective\n",
    "from perspective import PerspectiveWidget\n",
    "\n",
    "# table = perspective.Table(df)\n",
    "# widget = perspective.PerspectiveWidget(table)\n",
    "widget = perspective.PerspectiveWidget({\"x\":[1,2,3,4,5]})\n",
    "widget"
   ]
  },
  {
   "cell_type": "code",
   "execution_count": null,
   "metadata": {},
   "outputs": [],
   "source": []
  }
 ],
 "metadata": {
  "kernelspec": {
   "display_name": "pbr",
   "language": "python",
   "name": "python3"
  },
  "language_info": {
   "codemirror_mode": {
    "name": "ipython",
    "version": 3
   },
   "file_extension": ".py",
   "mimetype": "text/x-python",
   "name": "python",
   "nbconvert_exporter": "python",
   "pygments_lexer": "ipython3",
   "version": "3.11.4"
  },
  "orig_nbformat": 4
 },
 "nbformat": 4,
 "nbformat_minor": 2
}
