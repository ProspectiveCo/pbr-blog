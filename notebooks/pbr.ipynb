{
 "cells": [
  {
   "cell_type": "code",
   "execution_count": 1,
   "metadata": {},
   "outputs": [],
   "source": [
    "import os\n",
    "import json"
   ]
  },
  {
   "cell_type": "code",
   "execution_count": null,
   "metadata": {},
   "outputs": [],
   "source": []
  },
  {
   "cell_type": "markdown",
   "metadata": {},
   "source": []
  },
  {
   "cell_type": "code",
   "execution_count": 3,
   "metadata": {},
   "outputs": [],
   "source": [
    "\n",
    "subject = \"riders\"\n",
    "path = \"../data/\" + subject\n",
    "dir_list = os.listdir(path)\n",
    "\n",
    "# for file in dir_list:\n",
    "#     with open(path + \"/\" + file, 'r') as f:\n",
    "#         data = json.load(f)\n",
    "#         data = data['data']\n",
    "#         with open(path + \"/\" + file, 'w') as fw:\n",
    "#             json.dump(data, fw)\n",
    "#             fw.close()\n",
    "#         f.close()     \n"
   ]
  },
  {
   "cell_type": "code",
   "execution_count": 13,
   "metadata": {},
   "outputs": [
    {
     "ename": "FileNotFoundError",
     "evalue": "[Errno 2] No such file or directory: './riders/normalized//riders-2011.json'",
     "output_type": "error",
     "traceback": [
      "\u001b[0;31m---------------------------------------------------------------------------\u001b[0m",
      "\u001b[0;31mFileNotFoundError\u001b[0m                         Traceback (most recent call last)",
      "Cell \u001b[0;32mIn[13], line 6\u001b[0m\n\u001b[1;32m      4\u001b[0m \u001b[39mfor\u001b[39;00m file \u001b[39min\u001b[39;00m dir_list:\n\u001b[1;32m      5\u001b[0m     \u001b[39mif\u001b[39;00m file\u001b[39m.\u001b[39mendswith(\u001b[39m'\u001b[39m\u001b[39m.json\u001b[39m\u001b[39m'\u001b[39m):\n\u001b[0;32m----> 6\u001b[0m         \u001b[39mwith\u001b[39;00m \u001b[39mopen\u001b[39;49m(path \u001b[39m+\u001b[39;49m \u001b[39m\"\u001b[39;49m\u001b[39m/\u001b[39;49m\u001b[39m\"\u001b[39;49m \u001b[39m+\u001b[39;49m file, \u001b[39m'\u001b[39;49m\u001b[39mr\u001b[39;49m\u001b[39m'\u001b[39;49m) \u001b[39mas\u001b[39;00m f:\n\u001b[1;32m      7\u001b[0m             data \u001b[39m=\u001b[39m json\u001b[39m.\u001b[39mload(f)\n\u001b[1;32m      9\u001b[0m             \u001b[39m# pull the year from the file name, which looks like this: bulls-2021.json\u001b[39;00m\n",
      "File \u001b[0;32m~/miniforge3/envs/pbr/lib/python3.11/site-packages/IPython/core/interactiveshell.py:284\u001b[0m, in \u001b[0;36m_modified_open\u001b[0;34m(file, *args, **kwargs)\u001b[0m\n\u001b[1;32m    277\u001b[0m \u001b[39mif\u001b[39;00m file \u001b[39min\u001b[39;00m {\u001b[39m0\u001b[39m, \u001b[39m1\u001b[39m, \u001b[39m2\u001b[39m}:\n\u001b[1;32m    278\u001b[0m     \u001b[39mraise\u001b[39;00m \u001b[39mValueError\u001b[39;00m(\n\u001b[1;32m    279\u001b[0m         \u001b[39mf\u001b[39m\u001b[39m\"\u001b[39m\u001b[39mIPython won\u001b[39m\u001b[39m'\u001b[39m\u001b[39mt let you open fd=\u001b[39m\u001b[39m{\u001b[39;00mfile\u001b[39m}\u001b[39;00m\u001b[39m by default \u001b[39m\u001b[39m\"\u001b[39m\n\u001b[1;32m    280\u001b[0m         \u001b[39m\"\u001b[39m\u001b[39mas it is likely to crash IPython. If you know what you are doing, \u001b[39m\u001b[39m\"\u001b[39m\n\u001b[1;32m    281\u001b[0m         \u001b[39m\"\u001b[39m\u001b[39myou can use builtins\u001b[39m\u001b[39m'\u001b[39m\u001b[39m open.\u001b[39m\u001b[39m\"\u001b[39m\n\u001b[1;32m    282\u001b[0m     )\n\u001b[0;32m--> 284\u001b[0m \u001b[39mreturn\u001b[39;00m io_open(file, \u001b[39m*\u001b[39;49margs, \u001b[39m*\u001b[39;49m\u001b[39m*\u001b[39;49mkwargs)\n",
      "\u001b[0;31mFileNotFoundError\u001b[0m: [Errno 2] No such file or directory: './riders/normalized//riders-2011.json'"
     ]
    }
   ],
   "source": [
    "\n",
    "\n",
    "# flatten the data into a dataframe\n",
    "import pandas as pd\n",
    "\n",
    "for file in dir_list:\n",
    "    if file.endswith('.json'):\n",
    "        with open(path + \"/\" + file, 'r') as f:\n",
    "            data = json.load(f)\n",
    "\n",
    "            # pull the year from the file name, which looks like this: bulls-2021.json\n",
    "            year = file.split('-')[1].split('.')[0]\n",
    "\n",
    "            # parse the year into a number\n",
    "            year = int(year)\n",
    "\n",
    "            # Add the year to each record in data\n",
    "            for record in data:\n",
    "                record['year'] = year\n",
    "\n",
    "\n",
    "            df = pd.json_normalize(data)\n",
    "\n",
    "        # # remove extension from file name\n",
    "            file = file.split('.')[0]\n",
    "\n",
    "            df.to_json('./' + subject + '/normalized' + file + '-flat.json', orient='records')\n",
    "\n",
    "            f.close()\n",
    "        \n",
    "\n",
    "# load the data at ./riders/riders-2021.json\n",
    "# with open('./riders/riders-2021.json') as f:\n",
    "#   data = json.load(f)\n",
    "#   df = pd.json_normalize(data)\n",
    "\n",
    "#   # write the dataframe to a json file\n",
    "#   df.to_json('./riders/riders-2021-flat.json', orient='records')\n",
    "  "
   ]
  },
  {
   "cell_type": "code",
   "execution_count": 11,
   "metadata": {},
   "outputs": [
    {
     "ename": "FileNotFoundError",
     "evalue": "[Errno 2] No such file or directory: './riders/normalized/'",
     "output_type": "error",
     "traceback": [
      "\u001b[0;31m---------------------------------------------------------------------------\u001b[0m",
      "\u001b[0;31mFileNotFoundError\u001b[0m                         Traceback (most recent call last)",
      "Cell \u001b[0;32mIn[11], line 7\u001b[0m\n\u001b[1;32m      5\u001b[0m \u001b[39m# create a single dataframe from all the normalized json files\u001b[39;00m\n\u001b[1;32m      6\u001b[0m path \u001b[39m=\u001b[39m \u001b[39m'\u001b[39m\u001b[39m./\u001b[39m\u001b[39m'\u001b[39m \u001b[39m+\u001b[39m subject \u001b[39m+\u001b[39m \u001b[39m'\u001b[39m\u001b[39m/normalized/\u001b[39m\u001b[39m'\u001b[39m\n\u001b[0;32m----> 7\u001b[0m files \u001b[39m=\u001b[39m os\u001b[39m.\u001b[39;49mlistdir(path)\n\u001b[1;32m      8\u001b[0m files \u001b[39m=\u001b[39m [path \u001b[39m+\u001b[39m f \u001b[39mfor\u001b[39;00m f \u001b[39min\u001b[39;00m files]\n\u001b[1;32m      9\u001b[0m df \u001b[39m=\u001b[39m pd\u001b[39m.\u001b[39mconcat([pd\u001b[39m.\u001b[39mread_json(f) \u001b[39mfor\u001b[39;00m f \u001b[39min\u001b[39;00m files], ignore_index \u001b[39m=\u001b[39m \u001b[39mTrue\u001b[39;00m)\n",
      "\u001b[0;31mFileNotFoundError\u001b[0m: [Errno 2] No such file or directory: './riders/normalized/'"
     ]
    }
   ],
   "source": [
    "import pandas as pd\n",
    "import os\n",
    "import pyarrow\n",
    "\n",
    "# create a single dataframe from all the normalized json files\n",
    "path = './' + subject + '/normalized/'\n",
    "files = os.listdir(path)\n",
    "files = [path + f for f in files]\n",
    "df = pd.concat([pd.read_json(f) for f in files], ignore_index = True)\n",
    "\n",
    "# export the dataframe to an arrow file\n",
    "df.to_feather('./' + subject + '/' + subject + '-normalized.arrow', compression='none')\n",
    "\n",
    "# export the dataframe into a parquet file\n",
    "# df.to_parquet('./' + subject + '/' + subject + '-normalized.parquet')\n",
    "\n",
    "# export the dataframe into a csv file\n",
    "# df.to_csv('./' + subject + '/' + subject + '-normalized.csv')\n",
    "\n",
    "# create a PCRE regular expression to extract the feet height from a string in the form `5' 10\"`\n",
    "# feet_height_regex = r'(\\d)\\' (\\d\\d?)\"'\n",
    "\n",
    "# create a PCRE regular expression to extract the inches value from a string in the form `5' 10\"`\n",
    "# inches_height_regex = r'(\\d)\\' (\\d\\d?)\"'\n"
   ]
  },
  {
   "cell_type": "code",
   "execution_count": 5,
   "metadata": {},
   "outputs": [
    {
     "data": {
      "application/vnd.jupyter.widget-view+json": {
       "model_id": "d012c965bec040c686a34265bf1d16b3",
       "version_major": 2,
       "version_minor": 0
      },
      "text/plain": [
       "PerspectiveWidget(columns=['x'], theme=None)"
      ]
     },
     "execution_count": 5,
     "metadata": {},
     "output_type": "execute_result"
    }
   ],
   "source": [
    "import perspective\n",
    "from perspective import PerspectiveWidget\n",
    "\n",
    "# table = perspective.Table(df)\n",
    "# widget = perspective.PerspectiveWidget(table)\n",
    "widget = perspective.PerspectiveWidget({\"x\":[1,2,3,4,5]})\n",
    "widget"
   ]
  },
  {
   "cell_type": "code",
   "execution_count": null,
   "metadata": {},
   "outputs": [],
   "source": []
  }
 ],
 "metadata": {
  "kernelspec": {
   "display_name": "pbr",
   "language": "python",
   "name": "python3"
  },
  "language_info": {
   "codemirror_mode": {
    "name": "ipython",
    "version": 3
   },
   "file_extension": ".py",
   "mimetype": "text/x-python",
   "name": "python",
   "nbconvert_exporter": "python",
   "pygments_lexer": "ipython3",
   "version": "3.11.4"
  },
  "orig_nbformat": 4
 },
 "nbformat": 4,
 "nbformat_minor": 2
}
